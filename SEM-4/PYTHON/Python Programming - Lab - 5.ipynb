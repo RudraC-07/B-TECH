{
 "cells": [
  {
   "cell_type": "markdown",
   "metadata": {},
   "source": [
    "\n",
    "<a href='https://www.darshan.ac.in/'> <img src='https://www.darshan.ac.in/Content/media/DU_Logo.svg' width=\"250\" height=\"300\"/></a>\n",
    "<pre>\n",
    "<center><b><h1>Python Programming - 2301CS404</b></center>\n",
    "<center><b><h1>Lab - 5</b></center> \n",
    "<center><b><h1>RUDRA CHAVDA</b></center>\n",
    "<center><b><h1>23010101048</b></center> \n",
    "<pre>"
   ]
  },
  {
   "cell_type": "markdown",
   "metadata": {},
   "source": [
    "# List"
   ]
  },
  {
   "cell_type": "markdown",
   "metadata": {},
   "source": [
    "### 01) WAP to find sum of all the elements in a List."
   ]
  },
  {
   "cell_type": "code",
   "execution_count": 8,
   "metadata": {},
   "outputs": [
    {
     "name": "stdin",
     "output_type": "stream",
     "text": [
      "Enter elements :  1 2 3 4 5\n"
     ]
    },
    {
     "name": "stdout",
     "output_type": "stream",
     "text": [
      "Sum of elements in l1 =  15\n"
     ]
    }
   ],
   "source": [
    "l1 = input(\"Enter elements : \").split(\" \")\n",
    "l1 = [ int(i) for i in l1]\n",
    "print(\"Sum of elements in l1 = \",sum(l1))"
   ]
  },
  {
   "cell_type": "markdown",
   "metadata": {},
   "source": [
    "### 02) WAP to find largest element in a List."
   ]
  },
  {
   "cell_type": "code",
   "execution_count": 10,
   "metadata": {},
   "outputs": [
    {
     "name": "stdin",
     "output_type": "stream",
     "text": [
      "Enter elements :  1 2 3 4 5\n"
     ]
    },
    {
     "name": "stdout",
     "output_type": "stream",
     "text": [
      "Largest element in l1 =  5\n"
     ]
    }
   ],
   "source": [
    "l1 = input(\"Enter elements : \").split(\" \")\n",
    "l1 = [ int(i) for i in l1]\n",
    "print(\"Largest element in l1 = \",max(l1))"
   ]
  },
  {
   "cell_type": "markdown",
   "metadata": {},
   "source": [
    "### 03) WAP to find the length of a List."
   ]
  },
  {
   "cell_type": "code",
   "execution_count": 12,
   "metadata": {},
   "outputs": [
    {
     "name": "stdin",
     "output_type": "stream",
     "text": [
      "Enter elements :  1 2 3 4 5\n"
     ]
    },
    {
     "name": "stdout",
     "output_type": "stream",
     "text": [
      "Length of list l1 =  5\n"
     ]
    }
   ],
   "source": [
    "l1 = input(\"Enter elements : \").split(\" \")\n",
    "l1 = [ int(i) for i in l1]\n",
    "print(\"Length of list l1 = \",len(l1))"
   ]
  },
  {
   "cell_type": "markdown",
   "metadata": {},
   "source": [
    "### 04) WAP to interchange first and last elements in a list."
   ]
  },
  {
   "cell_type": "code",
   "execution_count": 18,
   "metadata": {},
   "outputs": [
    {
     "name": "stdin",
     "output_type": "stream",
     "text": [
      "Enter elements :  1 2 3 4 5\n"
     ]
    },
    {
     "name": "stdout",
     "output_type": "stream",
     "text": [
      "[5, 2, 3, 4, 1]\n"
     ]
    }
   ],
   "source": [
    "l1 = input(\"Enter elements : \").split(\" \")\n",
    "l1 = [ int(i) for i in l1]\n",
    "n = len(l1)\n",
    "l1[n-1],l1[0] = l1[0],l1[n-1]\n",
    "print(l1)"
   ]
  },
  {
   "cell_type": "markdown",
   "metadata": {},
   "source": [
    "### 05) WAP to split the List into two parts and append the first part to the end."
   ]
  },
  {
   "cell_type": "code",
   "execution_count": 28,
   "metadata": {},
   "outputs": [
    {
     "name": "stdin",
     "output_type": "stream",
     "text": [
      "Enter elements :  1 2 3 4 5\n"
     ]
    },
    {
     "name": "stdout",
     "output_type": "stream",
     "text": [
      "[3, 4, 5, 1, 2]\n"
     ]
    }
   ],
   "source": [
    "l1 = input(\"Enter elements : \").split(\" \")\n",
    "l1 = [ int(i) for i in l1]\n",
    "ind = int(len(l1)/2)\n",
    "l2 = l1[ind:]+l1[:ind] \n",
    "print(l2)"
   ]
  },
  {
   "cell_type": "markdown",
   "metadata": {},
   "source": [
    "### 06) WAP to interchange the elements on two positions entered by a user."
   ]
  },
  {
   "cell_type": "code",
   "execution_count": 30,
   "metadata": {},
   "outputs": [
    {
     "name": "stdin",
     "output_type": "stream",
     "text": [
      "Enter elements :  1 2 3 4 5\n",
      "Enter 1st index :  1\n",
      "Enter 2nd index :  2\n"
     ]
    },
    {
     "name": "stdout",
     "output_type": "stream",
     "text": [
      "[1, 3, 2, 4, 5]\n"
     ]
    }
   ],
   "source": [
    "l1 = input(\"Enter elements : \").split(\" \")\n",
    "l1 = [ int(i) for i in l1]\n",
    "a = int(input(\"Enter 1st index : \"))\n",
    "b = int(input(\"Enter 2nd index : \")) \n",
    "l1[a],l1[b] = l1[b],l1[a]\n",
    "print(l1)"
   ]
  },
  {
   "cell_type": "markdown",
   "metadata": {},
   "source": [
    "### 07) WAP to reverse the list entered by user."
   ]
  },
  {
   "cell_type": "code",
   "execution_count": 38,
   "metadata": {},
   "outputs": [
    {
     "name": "stdin",
     "output_type": "stream",
     "text": [
      "Enter elements :  1 2 3 4\n"
     ]
    },
    {
     "name": "stdout",
     "output_type": "stream",
     "text": [
      "Reversed list :  [4, 3, 2, 1]\n"
     ]
    }
   ],
   "source": [
    "l1 = input(\"Enter elements : \").split(\" \")\n",
    "l1 = [ int(i) for i in l1]\n",
    "l1.reverse()\n",
    "print(\"Reversed list : \",l1)"
   ]
  },
  {
   "cell_type": "markdown",
   "metadata": {},
   "source": [
    "### 08) WAP to print even numbers in a list."
   ]
  },
  {
   "cell_type": "code",
   "execution_count": 50,
   "metadata": {},
   "outputs": [
    {
     "name": "stdin",
     "output_type": "stream",
     "text": [
      "Enter elements :  1 2 3 4 5\n"
     ]
    },
    {
     "name": "stdout",
     "output_type": "stream",
     "text": [
      "[2, 4]\n"
     ]
    }
   ],
   "source": [
    "l1 = input(\"Enter elements : \").split(\" \")\n",
    "l1 = [ int(i) for i in l1]\n",
    "l2 = [ i for i in l1 if i%2 == 0]\n",
    "print(l2)"
   ]
  },
  {
   "cell_type": "markdown",
   "metadata": {},
   "source": [
    "### 09) WAP to count unique items in a list."
   ]
  },
  {
   "cell_type": "code",
   "execution_count": 68,
   "metadata": {},
   "outputs": [
    {
     "name": "stdin",
     "output_type": "stream",
     "text": [
      "Enter elements :  1 2 2 3\n"
     ]
    },
    {
     "name": "stdout",
     "output_type": "stream",
     "text": [
      "Count of uniqe items in list :  3\n"
     ]
    }
   ],
   "source": [
    "l1 = input(\"Enter elements : \").split(\" \")\n",
    "l1 = [ int(i) for i in l1]\n",
    "s = set(l1)\n",
    "print(\"Count of uniqe items in list : \",len(s))\n",
    "\n"
   ]
  },
  {
   "cell_type": "markdown",
   "metadata": {},
   "source": [
    "### 10) WAP to copy a list."
   ]
  },
  {
   "cell_type": "code",
   "execution_count": 64,
   "metadata": {},
   "outputs": [
    {
     "name": "stdin",
     "output_type": "stream",
     "text": [
      "Enter elements :  1 2 3 4 5\n"
     ]
    },
    {
     "name": "stdout",
     "output_type": "stream",
     "text": [
      "Your list :  [1, 2, 3, 4, 5]\n",
      "Copied list :  [1, 2, 3, 4, 5]\n"
     ]
    }
   ],
   "source": [
    "l1 = input(\"Enter elements : \").split(\" \")\n",
    "l1 = [ int(i) for i in l1]\n",
    "l2 = l1.copy()\n",
    "print(\"Your list : \",l1)\n",
    "print(\"Copied list : \",l2)"
   ]
  },
  {
   "cell_type": "markdown",
   "metadata": {},
   "source": [
    "### 11) WAP to print all odd numbers in a given range."
   ]
  },
  {
   "cell_type": "code",
   "execution_count": 80,
   "metadata": {},
   "outputs": [
    {
     "name": "stdin",
     "output_type": "stream",
     "text": [
      "Enter elements :  1 2 3 4 5 6 7 8 9 10\n",
      "Enter 1st index :  2\n",
      "Enter 2nd index :  7\n"
     ]
    },
    {
     "name": "stdout",
     "output_type": "stream",
     "text": [
      "Odd numbers :  [3, 5, 7]\n"
     ]
    }
   ],
   "source": [
    "l1 = input(\"Enter elements : \").split(\" \")\n",
    "l1 = [ int(i) for i in l1]\n",
    "\n",
    "a = int(input(\"Enter 1st index : \"))\n",
    "b = int(input(\"Enter 2nd index : \"))\n",
    "l2 =[]\n",
    "\n",
    "for i in range(a,b):\n",
    "    if l1[i]%2!=0:\n",
    "        l2.append(l1[i])\n",
    "print(\"Odd numbers : \",l2)"
   ]
  },
  {
   "cell_type": "markdown",
   "metadata": {},
   "source": [
    "### 12) WAP to count occurrences of an element in a list."
   ]
  },
  {
   "cell_type": "code",
   "execution_count": 92,
   "metadata": {},
   "outputs": [
    {
     "name": "stdin",
     "output_type": "stream",
     "text": [
      "Enter elements :  1 2 2 3 4 4 5 5 6\n"
     ]
    },
    {
     "name": "stdout",
     "output_type": "stream",
     "text": [
      "Occurrence of 1 = 1\n",
      "Occurrence of 2 = 2\n",
      "Occurrence of 3 = 1\n",
      "Occurrence of 4 = 2\n",
      "Occurrence of 5 = 2\n",
      "Occurrence of 6 = 1\n"
     ]
    }
   ],
   "source": [
    "l1 = input(\"Enter elements : \").split(\" \")\n",
    "l1 = [ int(i) for i in l1]\n",
    "\n",
    "s = set(l1)\n",
    "\n",
    "for i in s:\n",
    "    count = l1.count(i)\n",
    "    print(\"Occurrence of\", i ,\"=\", count)"
   ]
  },
  {
   "cell_type": "markdown",
   "metadata": {},
   "source": [
    "### 13) WAP to find second largest number in a list."
   ]
  },
  {
   "cell_type": "code",
   "execution_count": null,
   "metadata": {},
   "outputs": [],
   "source": [
    "l1 = input(\"Enter elements : \").split(\" \")\n",
    "l1 = [ int(i) for i in l1]\n",
    "\n"
   ]
  },
  {
   "cell_type": "markdown",
   "metadata": {},
   "source": [
    "### 14) WAP to extract elements with frequency greater than K."
   ]
  },
  {
   "cell_type": "code",
   "execution_count": 98,
   "metadata": {},
   "outputs": [
    {
     "name": "stdin",
     "output_type": "stream",
     "text": [
      "Enter elements :  1 2 2 2 2 2 3 3 4 4 4 5 5 6 6 6\n",
      "Enter frequency :  2\n"
     ]
    },
    {
     "name": "stdout",
     "output_type": "stream",
     "text": [
      "2\n",
      "4\n",
      "6\n"
     ]
    }
   ],
   "source": [
    "l1 = input(\"Enter elements : \").split(\" \")\n",
    "l1 = [ int(i) for i in l1]\n",
    "\n",
    "s = set(l1)\n",
    "k = int(input(\"Enter frequency : \"))\n",
    "\n",
    "for i in s:\n",
    "    count = l1.count(i)\n",
    "    if count>k:\n",
    "        print(i)"
   ]
  },
  {
   "cell_type": "markdown",
   "metadata": {},
   "source": [
    "### 15) WAP to create a list of squared numbers from 0 to 9 with and without using List Comprehension."
   ]
  },
  {
   "cell_type": "code",
   "execution_count": 104,
   "metadata": {},
   "outputs": [
    {
     "name": "stdout",
     "output_type": "stream",
     "text": [
      "[0, 1, 4, 9, 16, 25, 36, 49, 64, 81]\n"
     ]
    }
   ],
   "source": [
    "l1 = [ i**2 for i in range(0,10)]\n",
    "print(l1)"
   ]
  },
  {
   "cell_type": "markdown",
   "metadata": {},
   "source": [
    "### 16) WAP to create a new list (fruit whose name starts with 'b') from the list of fruits given by user."
   ]
  },
  {
   "cell_type": "code",
   "execution_count": null,
   "metadata": {},
   "outputs": [],
   "source": []
  },
  {
   "cell_type": "markdown",
   "metadata": {},
   "source": [
    "### 17) WAP to create a list of common elements from given two lists."
   ]
  },
  {
   "cell_type": "code",
   "execution_count": null,
   "metadata": {},
   "outputs": [],
   "source": []
  }
 ],
 "metadata": {
  "kernelspec": {
   "display_name": "Python 3 (ipykernel)",
   "language": "python",
   "name": "python3"
  },
  "language_info": {
   "codemirror_mode": {
    "name": "ipython",
    "version": 3
   },
   "file_extension": ".py",
   "mimetype": "text/x-python",
   "name": "python",
   "nbconvert_exporter": "python",
   "pygments_lexer": "ipython3",
   "version": "3.12.7"
  }
 },
 "nbformat": 4,
 "nbformat_minor": 4
}
