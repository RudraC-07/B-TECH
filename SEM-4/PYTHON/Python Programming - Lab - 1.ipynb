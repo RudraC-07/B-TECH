{
 "cells": [
  {
   "cell_type": "markdown",
   "metadata": {},
   "source": [
    "<a href='https://www.darshan.ac.in/'> <img src='https://www.darshan.ac.in/Content/media/DU_Logo.svg' width=\"250\" height=\"10\"/></a>\n",
    "<pre>\n",
    "<center><b><h1>Python Programming - 2301CS404</b></center>\n",
    "<center><b><h1>Lab - 1</b></center> \n",
    "<center><b><h1>RUDRA CHAVDA</b></center>\n",
    "<center><b><h1>23010101048</b></center>\n",
    "<pre>"
   ]
  },
  {
   "cell_type": "markdown",
   "metadata": {},
   "source": [
    "### 01) WAP to print “Hello World”"
   ]
  },
  {
   "cell_type": "code",
   "execution_count": 1,
   "metadata": {},
   "outputs": [
    {
     "name": "stdout",
     "output_type": "stream",
     "text": [
      "Hello World\n"
     ]
    }
   ],
   "source": [
    "print(\"Hello World\")"
   ]
  },
  {
   "cell_type": "markdown",
   "metadata": {},
   "source": [
    "### 02) WAP to print addition of two numbers with and without using input()."
   ]
  },
  {
   "cell_type": "code",
   "execution_count": 4,
   "metadata": {},
   "outputs": [
    {
     "name": "stdout",
     "output_type": "stream",
     "text": [
      "Sum =  17\n",
      "Enter 1st no. : 20\n",
      "Enter 2nd no. : 30\n",
      "Sum =  50\n"
     ]
    }
   ],
   "source": [
    "a=10\n",
    "b=7\n",
    "print(\"Sum = \",a+b)\n",
    "\n",
    "\n",
    "a = int(input(\"Enter 1st no. : \"))\n",
    "b = int(input(\"Enter 2nd no. : \"))\n",
    "print(\"Sum = \",a+b)"
   ]
  },
  {
   "cell_type": "markdown",
   "metadata": {},
   "source": [
    "### 03) WAP to check the type of the variable."
   ]
  },
  {
   "cell_type": "code",
   "execution_count": 6,
   "metadata": {},
   "outputs": [
    {
     "name": "stdout",
     "output_type": "stream",
     "text": [
      "<class 'int'>\n",
      "<class 'str'>\n"
     ]
    }
   ],
   "source": [
    "a = 10\n",
    "b = \"dfkjnadfkg\"\n",
    "\n",
    "print(type(a))\n",
    "print(type(b))"
   ]
  },
  {
   "cell_type": "markdown",
   "metadata": {},
   "source": [
    "### 04) WAP to calculate simple interest."
   ]
  },
  {
   "cell_type": "code",
   "execution_count": 8,
   "metadata": {},
   "outputs": [
    {
     "name": "stdout",
     "output_type": "stream",
     "text": [
      "Enter total amount : 3000\n",
      "Enter rate of interest : 15\n",
      "Enter time period : 3\n",
      "Simple interest :  1350.0\n"
     ]
    }
   ],
   "source": [
    "a = int(input(\"Enter total amount : \"))\n",
    "r = int(input(\"Enter rate of interest : \"))\n",
    "t = int(input(\"Enter time period in years : \"))\n",
    "\n",
    "print(\"Simple interest : \",(a*r*t)/100)"
   ]
  },
  {
   "cell_type": "markdown",
   "metadata": {},
   "source": [
    "### 05) WAP to calculate area and perimeter of a circle."
   ]
  },
  {
   "cell_type": "code",
   "execution_count": 10,
   "metadata": {},
   "outputs": [
    {
     "name": "stdout",
     "output_type": "stream",
     "text": [
      "Enter radius : 5\n",
      "Area :  78.5\n",
      "perimeter :  31.400000000000002\n"
     ]
    }
   ],
   "source": [
    "r = int(input(\"Enter radius : \"))\n",
    "\n",
    "#area of circle\n",
    "print(\"Area : \",(3.14*r*r))\n",
    "#perimeter of circle\n",
    "print(\"perimeter : \",(2*3.14*r))"
   ]
  },
  {
   "cell_type": "markdown",
   "metadata": {},
   "source": [
    "### 06) WAP to calculate area of a triangle."
   ]
  },
  {
   "cell_type": "code",
   "execution_count": 11,
   "metadata": {},
   "outputs": [
    {
     "name": "stdout",
     "output_type": "stream",
     "text": [
      "Enter base : 2\n",
      "Enter height : 2\n",
      "Area of triangle :  2.0\n"
     ]
    }
   ],
   "source": [
    "b = int(input(\"Enter base : \"))\n",
    "h = int(input(\"Enter height : \"))\n",
    "\n",
    "print(\"Area of triangle : \",(1/2)*b*h)"
   ]
  },
  {
   "cell_type": "markdown",
   "metadata": {},
   "source": [
    "### 07) WAP to compute quotient and remainder."
   ]
  },
  {
   "cell_type": "code",
   "execution_count": 13,
   "metadata": {},
   "outputs": [
    {
     "name": "stdout",
     "output_type": "stream",
     "text": [
      "Enter no. : 25\n",
      "Enter divisor : 5\n",
      "Quotient :  5\n",
      "Remainder :  0\n"
     ]
    }
   ],
   "source": [
    "a = int(input(\"Enter no. : \"))\n",
    "b = int(input(\"Enter divisor : \"))\n",
    "\n",
    "print(\"Quotient : \",int(a/b))\n",
    "print(\"Remainder : \",a%b)"
   ]
  },
  {
   "cell_type": "markdown",
   "metadata": {},
   "source": [
    "### 08) WAP to convert degree into Fahrenheit and vice versa."
   ]
  },
  {
   "cell_type": "code",
   "execution_count": 14,
   "metadata": {},
   "outputs": [
    {
     "name": "stdout",
     "output_type": "stream",
     "text": [
      "Enter temperature in Fehrenheit : 32\n",
      "Temp. in celcius :  0.0\n",
      "Enter temperature in celcius : 0\n",
      "Temp. in celcius :  32.0\n"
     ]
    }
   ],
   "source": [
    "f = float(input(\"Enter temperature in Fehrenheit : \"))\n",
    "print(\"Temp. in celcius : \",float((f-32)*(5/9)))\n",
    "\n",
    "c = float(input(\"Enter temperature in celcius : \"))\n",
    "print(\"Temp. in celcius : \",float(c*(9/5)+32))"
   ]
  },
  {
   "cell_type": "markdown",
   "metadata": {},
   "source": [
    "### 09) WAP to find the distance between two points in 2-D space."
   ]
  },
  {
   "cell_type": "code",
   "execution_count": null,
   "metadata": {},
   "outputs": [],
   "source": []
  },
  {
   "cell_type": "markdown",
   "metadata": {},
   "source": [
    "### 10) WAP to print sum of n natural numbers."
   ]
  },
  {
   "cell_type": "code",
   "execution_count": null,
   "metadata": {},
   "outputs": [],
   "source": []
  },
  {
   "cell_type": "markdown",
   "metadata": {},
   "source": [
    "### 11) WAP to print sum of square of n natural numbers."
   ]
  },
  {
   "cell_type": "code",
   "execution_count": null,
   "metadata": {},
   "outputs": [],
   "source": []
  },
  {
   "cell_type": "markdown",
   "metadata": {},
   "source": [
    "### 12) WAP to concate the first and last name of the student."
   ]
  },
  {
   "cell_type": "code",
   "execution_count": 3,
   "metadata": {},
   "outputs": [
    {
     "name": "stdin",
     "output_type": "stream",
     "text": [
      "Enter your first name :  rudra\n",
      "Enter your last name :  chavda\n"
     ]
    },
    {
     "name": "stdout",
     "output_type": "stream",
     "text": [
      "rudrachavda\n"
     ]
    }
   ],
   "source": [
    "a = input(\"Enter your first name : \")\n",
    "b = input(\"Enter your last name : \")\n",
    "print(a + b)"
   ]
  },
  {
   "cell_type": "markdown",
   "metadata": {},
   "source": [
    "### 13) WAP to swap two numbers."
   ]
  },
  {
   "cell_type": "code",
   "execution_count": 5,
   "metadata": {},
   "outputs": [
    {
     "name": "stdin",
     "output_type": "stream",
     "text": [
      "Enter a :  2\n",
      "Enter b :  3\n"
     ]
    },
    {
     "name": "stdout",
     "output_type": "stream",
     "text": [
      "After swapping a :  3\n",
      "After swapping b :  2\n"
     ]
    }
   ],
   "source": [
    "a = int(input(\"Enter a : \"))\n",
    "b = int(input(\"Enter b : \"))\n",
    "\n",
    "#print(\"Before swapping a : \",a)\n",
    "#print(\"Before swapping b : \",b)\n",
    "\n",
    "c=a\n",
    "a=b\n",
    "b=c\n",
    "\n",
    "print(\"After swapping a : \",a)\n",
    "print(\"After swapping b : \",b)"
   ]
  },
  {
   "cell_type": "markdown",
   "metadata": {},
   "source": [
    "### 14) WAP to get the distance from user into kilometer, and convert it into meter, feet, inches and centimeter."
   ]
  },
  {
   "cell_type": "code",
   "execution_count": null,
   "metadata": {},
   "outputs": [],
   "source": []
  },
  {
   "cell_type": "markdown",
   "metadata": {},
   "source": [
    "### 15) WAP to get day, month and year from the user and print the date in the given format: 23-11-2024."
   ]
  },
  {
   "cell_type": "code",
   "execution_count": null,
   "metadata": {},
   "outputs": [],
   "source": []
  }
 ],
 "metadata": {
  "kernelspec": {
   "display_name": "Python 3 (ipykernel)",
   "language": "python",
   "name": "python3"
  },
  "language_info": {
   "codemirror_mode": {
    "name": "ipython",
    "version": 3
   },
   "file_extension": ".py",
   "mimetype": "text/x-python",
   "name": "python",
   "nbconvert_exporter": "python",
   "pygments_lexer": "ipython3",
   "version": "3.12.7"
  },
  "vscode": {
   "interpreter": {
    "hash": "31f2aee4e71d21fbe5cf8b01ff0e069b9275f58929596ceb00d14d90e3e16cd6"
   }
  }
 },
 "nbformat": 4,
 "nbformat_minor": 4
}
