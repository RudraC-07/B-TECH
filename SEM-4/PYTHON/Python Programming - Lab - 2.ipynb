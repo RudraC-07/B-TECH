{
 "cells": [
  {
   "cell_type": "markdown",
   "metadata": {},
   "source": [
    "\n",
    "<a href='https://www.darshan.ac.in/'> <img src='https://www.darshan.ac.in/Content/media/DU_Logo.svg' width=\"250\" height=\"300\"/></a>\n",
    "<pre>\n",
    "<center><b><h1>Python Programming - 2301CS404</b></center>\n",
    "<center><b><h1>Lab - 2</b></center>\n",
    "<center><b><h1>RUDRA CHAVDA</b></center>\n",
    "<center><b><h1>23010101048</b></center>\n",
    "<pre>"
   ]
  },
  {
   "cell_type": "markdown",
   "metadata": {},
   "source": [
    "# if..else.."
   ]
  },
  {
   "cell_type": "markdown",
   "metadata": {},
   "source": [
    "### 01) WAP to check whether the given number is positive or negative."
   ]
  },
  {
   "cell_type": "code",
   "execution_count": 5,
   "metadata": {},
   "outputs": [
    {
     "name": "stdin",
     "output_type": "stream",
     "text": [
      "Enter a no. :  0\n"
     ]
    },
    {
     "name": "stdout",
     "output_type": "stream",
     "text": [
      "Number is positive\n"
     ]
    }
   ],
   "source": [
    "a = int(input(\"Enter a no. : \"))\n",
    "if(a>=0):\n",
    "    print(\"Number is positive\")\n",
    "else:\n",
    "    print(\"Number is negative\")"
   ]
  },
  {
   "cell_type": "markdown",
   "metadata": {},
   "source": [
    "### 02) WAP to check whether the given number is odd or even."
   ]
  },
  {
   "cell_type": "code",
   "execution_count": 9,
   "metadata": {},
   "outputs": [
    {
     "name": "stdin",
     "output_type": "stream",
     "text": [
      "Enter a no. :  2\n"
     ]
    },
    {
     "name": "stdout",
     "output_type": "stream",
     "text": [
      "Number is even\n"
     ]
    }
   ],
   "source": [
    "a = int(input(\"Enter a no. : \"))\n",
    "if(a%2==0):\n",
    "    print(\"Number is even\")\n",
    "else:\n",
    "    print(\"Number is odd\")"
   ]
  },
  {
   "cell_type": "markdown",
   "metadata": {},
   "source": [
    "### 03) WAP to find out largest number from given two numbers using simple if and ternary operator."
   ]
  },
  {
   "cell_type": "code",
   "execution_count": 14,
   "metadata": {},
   "outputs": [
    {
     "name": "stdin",
     "output_type": "stream",
     "text": [
      "Enter 1st no. :  3\n",
      "Enter 2nd no. :  2\n"
     ]
    },
    {
     "name": "stdout",
     "output_type": "stream",
     "text": [
      "a is large\n",
      "a is large\n"
     ]
    }
   ],
   "source": [
    "a = int(input(\"Enter 1st no. : \"))\n",
    "b = int(input(\"Enter 2nd no. : \"))\n",
    "\n",
    "#if..else\n",
    "if(a>b):\n",
    "    print(\"a is large\")\n",
    "else:\n",
    "    print(\"b is large\")\n",
    "\n",
    "#ternary operator\n",
    "print(\"a is large\") if a>b else print(\"b is large\")"
   ]
  },
  {
   "cell_type": "markdown",
   "metadata": {},
   "source": [
    "### 04) WAP to find out largest number from given three numbers."
   ]
  },
  {
   "cell_type": "code",
   "execution_count": 82,
   "metadata": {},
   "outputs": [
    {
     "name": "stdin",
     "output_type": "stream",
     "text": [
      "Enter a :  1\n",
      "Enter b :  3\n",
      "Enter c :  4\n"
     ]
    },
    {
     "name": "stdout",
     "output_type": "stream",
     "text": [
      "c is largest\n"
     ]
    }
   ],
   "source": [
    "a = int(input(\"Enter a : \"))\n",
    "b = int(input(\"Enter b : \"))\n",
    "c = int(input(\"Enter c : \"))\n",
    "\n",
    "if(a>b):\n",
    "    if(a>c):\n",
    "        print(\"a is largest\")\n",
    "elif(b>c):\n",
    "    print(\"b is largest\")\n",
    "else:\n",
    "    print(\"c is largest\")"
   ]
  },
  {
   "cell_type": "markdown",
   "metadata": {},
   "source": [
    "### 05) WAP to check whether the given year is leap year or not.\n",
    "[If a year can be divisible by 4 but not divisible by 100 then it is leap year but if it is divisible by 400 then it is leap year]"
   ]
  },
  {
   "cell_type": "code",
   "execution_count": 34,
   "metadata": {},
   "outputs": [
    {
     "name": "stdin",
     "output_type": "stream",
     "text": [
      "Enter year :  2024\n"
     ]
    },
    {
     "name": "stdout",
     "output_type": "stream",
     "text": [
      "2024 is a leap year\n"
     ]
    }
   ],
   "source": [
    "y = int(input(\"Enter year : \"))\n",
    "\n",
    "if((y%4==0 and y%100!=0) or (y%400==0)):\n",
    "    print(f\"{y} is a leap year\")\n",
    "else:\n",
    "    print(f\"{y} is not a leap year\")"
   ]
  },
  {
   "cell_type": "markdown",
   "metadata": {},
   "source": [
    "### 06) WAP in python to display the name of the day according to the number given by the user."
   ]
  },
  {
   "cell_type": "code",
   "execution_count": 51,
   "metadata": {},
   "outputs": [
    {
     "name": "stdin",
     "output_type": "stream",
     "text": [
      "Enter week no. :  8\n"
     ]
    },
    {
     "name": "stdout",
     "output_type": "stream",
     "text": [
      "Invalid day no.\n"
     ]
    }
   ],
   "source": [
    "w = int(input(\"Enter week no. : \"))\n",
    "\n",
    "match w:\n",
    "    case 1:\n",
    "        print(\"Sunday\")\n",
    "    case 2:\n",
    "        print(\"Monday\")\n",
    "    case 3:\n",
    "        print(\"Tuesday\")\n",
    "    case 4:\n",
    "        print(\"Wednesday\")\n",
    "    case 5:\n",
    "        print(\"Thursday\")\n",
    "    case 6:\n",
    "        print(\"Friday\")\n",
    "    case 7:\n",
    "        print(\"Saturday\")\n",
    "    case _:\n",
    "        print(\"Invalid day no.\")"
   ]
  },
  {
   "cell_type": "markdown",
   "metadata": {},
   "source": [
    "### 07) WAP to implement simple calculator which performs (add,sub,mul,div) of two no. based on user input."
   ]
  },
  {
   "cell_type": "code",
   "execution_count": 63,
   "metadata": {},
   "outputs": [
    {
     "name": "stdin",
     "output_type": "stream",
     "text": [
      "Enter 1st no. :  3\n",
      "Enter 2nd no. :  0\n",
      "Enter operator :  /\n"
     ]
    },
    {
     "name": "stdout",
     "output_type": "stream",
     "text": [
      "Infinity\n"
     ]
    }
   ],
   "source": [
    "a = int(input(\"Enter 1st no. : \"))\n",
    "b = int(input(\"Enter 2nd no. : \"))\n",
    "o = input(\"Enter operator : \")\n",
    "\n",
    "match o:\n",
    "    case '+':\n",
    "        print(\"Addition of no. : \",a+b)\n",
    "    case '-':\n",
    "        print(\"Subtraction of no. : \",a-b)\n",
    "    case '*':\n",
    "        print(\"Product of no. : \",a*b)\n",
    "    case '/':\n",
    "        if(b!=0):\n",
    "            print(\"Division of no. : \",a/b)\n",
    "        else:\n",
    "            print(\"Infinity\")\n",
    "    case _:\n",
    "        print(\"Enter valid operator.\")"
   ]
  },
  {
   "cell_type": "markdown",
   "metadata": {},
   "source": [
    "### 08) WAP to read marks of five subjects. Calculate percentage and print class accordingly. \n",
    "Fail below 35 </br>\n",
    "Pass Class between 35 to 45 </br>\n",
    "Second Class</br>\n",
    "between 45 to 60</br>\n",
    "First Class between 60 to 70</br> \n",
    "Distinction if more than 70"
   ]
  },
  {
   "cell_type": "code",
   "execution_count": 67,
   "metadata": {},
   "outputs": [
    {
     "name": "stdin",
     "output_type": "stream",
     "text": [
      "Enter marks of 1st sub. :  50\n",
      "Enter marks of 2nd sub. :  50\n",
      "Enter marks of 3rd sub. :  50\n",
      "Enter marks of 4th sub. :  50\n",
      "Enter marks of 5th sub. :  50\n"
     ]
    },
    {
     "name": "stdout",
     "output_type": "stream",
     "text": [
      "Second class\n"
     ]
    }
   ],
   "source": [
    "m1 = int(input(\"Enter marks of 1st sub. : \"))\n",
    "m2 = int(input(\"Enter marks of 2nd sub. : \"))\n",
    "m3 = int(input(\"Enter marks of 3rd sub. : \"))\n",
    "m4 = int(input(\"Enter marks of 4th sub. : \"))\n",
    "m5 = int(input(\"Enter marks of 5th sub. : \"))\n",
    "\n",
    "per = (m1+m2+m3+m4+m5)/5\n",
    "\n",
    "if(per<35):\n",
    "    print(\"Fail\")\n",
    "elif(per>=35 and per<45):\n",
    "    print(\"Pass\")\n",
    "elif(per>=45 and per<60):\n",
    "    print(\"Second class\")\n",
    "elif(per>=60 and per<=70):\n",
    "    print(\"First class\")\n",
    "elif(per>70):\n",
    "    print(\"Distinction\");"
   ]
  },
  {
   "cell_type": "markdown",
   "metadata": {},
   "source": [
    "### 09) Three sides of a triangle are entered through the keyboard, WAP to check whether the triangle is isosceles, equilateral, scalene or right-angled triangle."
   ]
  },
  {
   "cell_type": "code",
   "execution_count": 78,
   "metadata": {},
   "outputs": [
    {
     "name": "stdin",
     "output_type": "stream",
     "text": [
      "Enter 1st side :  3\n",
      "Enter 2nd side :  4\n",
      "Enter 3rd side :  5\n"
     ]
    },
    {
     "name": "stdout",
     "output_type": "stream",
     "text": [
      "Scalene Triangle\n",
      "Right angled Triangle\n"
     ]
    }
   ],
   "source": [
    "a = int(input(\"Enter 1st side : \"))\n",
    "b = int(input(\"Enter 2nd side : \"))\n",
    "c = int(input(\"Enter 3rd side : \"))\n",
    "\n",
    "if(a==b and a==c and b==c):\n",
    "    print(\"Equilateral Triangle\")\n",
    "elif(a==b or a==c or b==c):\n",
    "    print(\"Isosceles Triangle\")\n",
    "elif(a!=b and a!=c and b!=c):\n",
    "    print(\"Scalene Triangle\")\n",
    "if((a**2 + b**2 == c**2) or (a**2 + c**2 == b**2) or (c**2 + b**2 == a**2)):\n",
    "    print(\"Right angled Triangle\")"
   ]
  },
  {
   "cell_type": "markdown",
   "metadata": {},
   "source": [
    "### 10) WAP to find the second largest number among three user input numbers."
   ]
  },
  {
   "cell_type": "code",
   "execution_count": 84,
   "metadata": {},
   "outputs": [
    {
     "name": "stdin",
     "output_type": "stream",
     "text": [
      "Enter a :  4\n",
      "Enter b :  5\n",
      "Enter c :  6\n"
     ]
    },
    {
     "name": "stdout",
     "output_type": "stream",
     "text": [
      "b is 2nd largest\n"
     ]
    }
   ],
   "source": [
    "a = int(input(\"Enter a : \"))\n",
    "b = int(input(\"Enter b : \"))\n",
    "c = int(input(\"Enter c : \"))\n",
    "\n",
    "if(a>b):\n",
    "    if(a>c):\n",
    "        print(\"c is 2nd largest\")\n",
    "    else:\n",
    "        print(\"a is 2nd largest\")\n",
    "else:\n",
    "    if(b>c):\n",
    "        print(\"c is 2nd largest\")\n",
    "    else:\n",
    "        print(\"b is 2nd largest\")"
   ]
  },
  {
   "cell_type": "markdown",
   "metadata": {},
   "source": [
    "### 11) WAP to calculate electricity bill based on following criteria. Which takes the unit from the user.\n",
    "a. First 1 to 50 units – Rs. 2.60/unit</br>\n",
    "b. Next 50 to 100 units – Rs. 3.25/unit</br>\n",
    "c. Next 100 to 200 units – Rs. 5.26/unit</br>\n",
    "d. above 200 units – Rs. 8.45/unit"
   ]
  },
  {
   "cell_type": "code",
   "execution_count": 90,
   "metadata": {},
   "outputs": [
    {
     "name": "stdin",
     "output_type": "stream",
     "text": [
      "Enter units :  250\n"
     ]
    },
    {
     "name": "stdout",
     "output_type": "stream",
     "text": [
      "Electricity bill :  422.49999999999994\n"
     ]
    }
   ],
   "source": [
    "u = int(input(\"Enter units : \"))\n",
    "r_u = 0\n",
    "total = 0\n",
    "\n",
    "if(u>200):\n",
    "    r_u = u - 200\n",
    "    total += (r_u*8.45)\n",
    "    u = u - r_u\n",
    "elif(u>100 and u<=200):\n",
    "    r_u = u - 100\n",
    "    total += (r_u*5.26)\n",
    "    u = u - r_u\n",
    "elif(u>50 and u<=100):\n",
    "    r_u = u - 50\n",
    "    total += (r_u*3.25)\n",
    "    u = u - r_u\n",
    "elif(u>=1 and u<=50):\n",
    "    total += (u*2.60)\n",
    "\n",
    "print(\"Electricity bill : \",total)"
   ]
  },
  {
   "cell_type": "code",
   "execution_count": null,
   "metadata": {},
   "outputs": [],
   "source": []
  }
 ],
 "metadata": {
  "kernelspec": {
   "display_name": "Python 3 (ipykernel)",
   "language": "python",
   "name": "python3"
  },
  "language_info": {
   "codemirror_mode": {
    "name": "ipython",
    "version": 3
   },
   "file_extension": ".py",
   "mimetype": "text/x-python",
   "name": "python",
   "nbconvert_exporter": "python",
   "pygments_lexer": "ipython3",
   "version": "3.12.7"
  }
 },
 "nbformat": 4,
 "nbformat_minor": 4
}
